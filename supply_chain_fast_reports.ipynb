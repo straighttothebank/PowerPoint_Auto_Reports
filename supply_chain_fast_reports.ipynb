{
 "cells": [
  {
   "cell_type": "code",
   "execution_count": 1,
   "id": "b80943f3",
   "metadata": {},
   "outputs": [],
   "source": [
    "#Importing libraries\n",
    "from pptx import Presentation\n",
    "from pptx.util import Inches, Pt\n",
    "from pptx.dml.color import RGBColor\n",
    "import pandas as pd\n",
    "import matplotlib.pyplot as plt\n",
    "import seaborn as sn\n",
    "import os\n",
    "import numpy as np \n",
    "import datetime as dt"
   ]
  },
  {
   "cell_type": "code",
   "execution_count": 2,
   "id": "c68be586",
   "metadata": {},
   "outputs": [],
   "source": [
    "N = 13\n",
    "colors_df = pd.Series(np.random.randint(10,50,N), index=np.arange(1,N+1))\n",
    "cmap = plt.cm.tab10\n",
    "colors = cmap(np.arange(len(colors_df)) % cmap.N)"
   ]
  },
  {
   "cell_type": "code",
   "execution_count": 3,
   "id": "f5fc591c",
   "metadata": {},
   "outputs": [
    {
     "data": {
      "text/plain": [
       "['.ipynb_checkpoints',\n",
       " 'graph_1.png',\n",
       " 'graph_2.png',\n",
       " 'graph_3.png',\n",
       " 'graph_4.png',\n",
       " 'SCM Shipment Report.pptx',\n",
       " 'scm_delivery_dataset.csv',\n",
       " 'supply_chain_fast_reports.ipynb']"
      ]
     },
     "execution_count": 3,
     "metadata": {},
     "output_type": "execute_result"
    }
   ],
   "source": [
    "#Getting the files names\n",
    "path = os.getcwd()\n",
    "os.listdir(path)"
   ]
  },
  {
   "cell_type": "code",
   "execution_count": 4,
   "id": "09a6b728",
   "metadata": {},
   "outputs": [
    {
     "data": {
      "text/html": [
       "<div>\n",
       "<style scoped>\n",
       "    .dataframe tbody tr th:only-of-type {\n",
       "        vertical-align: middle;\n",
       "    }\n",
       "\n",
       "    .dataframe tbody tr th {\n",
       "        vertical-align: top;\n",
       "    }\n",
       "\n",
       "    .dataframe thead th {\n",
       "        text-align: right;\n",
       "    }\n",
       "</style>\n",
       "<table border=\"1\" class=\"dataframe\">\n",
       "  <thead>\n",
       "    <tr style=\"text-align: right;\">\n",
       "      <th></th>\n",
       "      <th>ID</th>\n",
       "      <th>Project Code</th>\n",
       "      <th>PQ #</th>\n",
       "      <th>PO / SO #</th>\n",
       "      <th>ASN/DN #</th>\n",
       "      <th>Country</th>\n",
       "      <th>Managed By</th>\n",
       "      <th>Fulfill Via</th>\n",
       "      <th>Vendor INCO Term</th>\n",
       "      <th>Shipment Mode</th>\n",
       "      <th>...</th>\n",
       "      <th>Unit of Measure (Per Pack)</th>\n",
       "      <th>Line Item Quantity</th>\n",
       "      <th>Line Item Value</th>\n",
       "      <th>Pack Price</th>\n",
       "      <th>Unit Price</th>\n",
       "      <th>Manufacturing Site</th>\n",
       "      <th>First Line Designation</th>\n",
       "      <th>Weight (Kilograms)</th>\n",
       "      <th>Freight Cost (USD)</th>\n",
       "      <th>Line Item Insurance (USD)</th>\n",
       "    </tr>\n",
       "  </thead>\n",
       "  <tbody>\n",
       "    <tr>\n",
       "      <th>0</th>\n",
       "      <td>1</td>\n",
       "      <td>100-CI-T01</td>\n",
       "      <td>Pre-PQ Process</td>\n",
       "      <td>SCMS-4</td>\n",
       "      <td>ASN-8</td>\n",
       "      <td>Côte d'Ivoire</td>\n",
       "      <td>PMO - US</td>\n",
       "      <td>Direct Drop</td>\n",
       "      <td>EXW</td>\n",
       "      <td>Air</td>\n",
       "      <td>...</td>\n",
       "      <td>30</td>\n",
       "      <td>19</td>\n",
       "      <td>551.0</td>\n",
       "      <td>29.00</td>\n",
       "      <td>0.97</td>\n",
       "      <td>Ranbaxy Fine Chemicals LTD</td>\n",
       "      <td>Yes</td>\n",
       "      <td>13</td>\n",
       "      <td>780.34</td>\n",
       "      <td>NaN</td>\n",
       "    </tr>\n",
       "    <tr>\n",
       "      <th>1</th>\n",
       "      <td>3</td>\n",
       "      <td>108-VN-T01</td>\n",
       "      <td>Pre-PQ Process</td>\n",
       "      <td>SCMS-13</td>\n",
       "      <td>ASN-85</td>\n",
       "      <td>Vietnam</td>\n",
       "      <td>PMO - US</td>\n",
       "      <td>Direct Drop</td>\n",
       "      <td>EXW</td>\n",
       "      <td>Air</td>\n",
       "      <td>...</td>\n",
       "      <td>240</td>\n",
       "      <td>1000</td>\n",
       "      <td>6200.0</td>\n",
       "      <td>6.20</td>\n",
       "      <td>0.03</td>\n",
       "      <td>Aurobindo Unit III, India</td>\n",
       "      <td>Yes</td>\n",
       "      <td>358</td>\n",
       "      <td>4521.5</td>\n",
       "      <td>NaN</td>\n",
       "    </tr>\n",
       "    <tr>\n",
       "      <th>2</th>\n",
       "      <td>4</td>\n",
       "      <td>100-CI-T01</td>\n",
       "      <td>Pre-PQ Process</td>\n",
       "      <td>SCMS-20</td>\n",
       "      <td>ASN-14</td>\n",
       "      <td>Côte d'Ivoire</td>\n",
       "      <td>PMO - US</td>\n",
       "      <td>Direct Drop</td>\n",
       "      <td>FCA</td>\n",
       "      <td>Air</td>\n",
       "      <td>...</td>\n",
       "      <td>100</td>\n",
       "      <td>500</td>\n",
       "      <td>40000.0</td>\n",
       "      <td>80.00</td>\n",
       "      <td>0.80</td>\n",
       "      <td>ABBVIE GmbH &amp; Co.KG Wiesbaden</td>\n",
       "      <td>Yes</td>\n",
       "      <td>171</td>\n",
       "      <td>1653.78</td>\n",
       "      <td>NaN</td>\n",
       "    </tr>\n",
       "    <tr>\n",
       "      <th>3</th>\n",
       "      <td>15</td>\n",
       "      <td>108-VN-T01</td>\n",
       "      <td>Pre-PQ Process</td>\n",
       "      <td>SCMS-78</td>\n",
       "      <td>ASN-50</td>\n",
       "      <td>Vietnam</td>\n",
       "      <td>PMO - US</td>\n",
       "      <td>Direct Drop</td>\n",
       "      <td>EXW</td>\n",
       "      <td>Air</td>\n",
       "      <td>...</td>\n",
       "      <td>60</td>\n",
       "      <td>31920</td>\n",
       "      <td>127360.8</td>\n",
       "      <td>3.99</td>\n",
       "      <td>0.07</td>\n",
       "      <td>Ranbaxy, Paonta Shahib, India</td>\n",
       "      <td>Yes</td>\n",
       "      <td>1855</td>\n",
       "      <td>16007.06</td>\n",
       "      <td>NaN</td>\n",
       "    </tr>\n",
       "    <tr>\n",
       "      <th>4</th>\n",
       "      <td>16</td>\n",
       "      <td>108-VN-T01</td>\n",
       "      <td>Pre-PQ Process</td>\n",
       "      <td>SCMS-81</td>\n",
       "      <td>ASN-55</td>\n",
       "      <td>Vietnam</td>\n",
       "      <td>PMO - US</td>\n",
       "      <td>Direct Drop</td>\n",
       "      <td>EXW</td>\n",
       "      <td>Air</td>\n",
       "      <td>...</td>\n",
       "      <td>60</td>\n",
       "      <td>38000</td>\n",
       "      <td>121600.0</td>\n",
       "      <td>3.20</td>\n",
       "      <td>0.05</td>\n",
       "      <td>Aurobindo Unit III, India</td>\n",
       "      <td>Yes</td>\n",
       "      <td>7590</td>\n",
       "      <td>45450.08</td>\n",
       "      <td>NaN</td>\n",
       "    </tr>\n",
       "  </tbody>\n",
       "</table>\n",
       "<p>5 rows × 33 columns</p>\n",
       "</div>"
      ],
      "text/plain": [
       "   ID Project Code            PQ # PO / SO # ASN/DN #        Country  \\\n",
       "0   1   100-CI-T01  Pre-PQ Process    SCMS-4    ASN-8  Côte d'Ivoire   \n",
       "1   3   108-VN-T01  Pre-PQ Process   SCMS-13   ASN-85        Vietnam   \n",
       "2   4   100-CI-T01  Pre-PQ Process   SCMS-20   ASN-14  Côte d'Ivoire   \n",
       "3  15   108-VN-T01  Pre-PQ Process   SCMS-78   ASN-50        Vietnam   \n",
       "4  16   108-VN-T01  Pre-PQ Process   SCMS-81   ASN-55        Vietnam   \n",
       "\n",
       "  Managed By  Fulfill Via Vendor INCO Term Shipment Mode  ...  \\\n",
       "0   PMO - US  Direct Drop              EXW           Air  ...   \n",
       "1   PMO - US  Direct Drop              EXW           Air  ...   \n",
       "2   PMO - US  Direct Drop              FCA           Air  ...   \n",
       "3   PMO - US  Direct Drop              EXW           Air  ...   \n",
       "4   PMO - US  Direct Drop              EXW           Air  ...   \n",
       "\n",
       "  Unit of Measure (Per Pack) Line Item Quantity Line Item Value Pack Price  \\\n",
       "0                         30                 19           551.0      29.00   \n",
       "1                        240               1000          6200.0       6.20   \n",
       "2                        100                500         40000.0      80.00   \n",
       "3                         60              31920        127360.8       3.99   \n",
       "4                         60              38000        121600.0       3.20   \n",
       "\n",
       "  Unit Price             Manufacturing Site First Line Designation  \\\n",
       "0       0.97     Ranbaxy Fine Chemicals LTD                    Yes   \n",
       "1       0.03      Aurobindo Unit III, India                    Yes   \n",
       "2       0.80  ABBVIE GmbH & Co.KG Wiesbaden                    Yes   \n",
       "3       0.07  Ranbaxy, Paonta Shahib, India                    Yes   \n",
       "4       0.05      Aurobindo Unit III, India                    Yes   \n",
       "\n",
       "  Weight (Kilograms) Freight Cost (USD) Line Item Insurance (USD)  \n",
       "0                 13             780.34                       NaN  \n",
       "1                358             4521.5                       NaN  \n",
       "2                171            1653.78                       NaN  \n",
       "3               1855           16007.06                       NaN  \n",
       "4               7590           45450.08                       NaN  \n",
       "\n",
       "[5 rows x 33 columns]"
      ]
     },
     "execution_count": 4,
     "metadata": {},
     "output_type": "execute_result"
    }
   ],
   "source": [
    "#Loading the data\n",
    "df = pd.read_csv('scm_delivery_dataset.csv', parse_dates=True)\n",
    "df.dropna(axis=0,how='all',inplace=True)\n",
    "df.head()"
   ]
  },
  {
   "cell_type": "code",
   "execution_count": 5,
   "id": "f18f0b0e",
   "metadata": {},
   "outputs": [
    {
     "name": "stdout",
     "output_type": "stream",
     "text": [
      "Total of data rows: 10324\n"
     ]
    }
   ],
   "source": [
    "#Getting the total of rows\n",
    "total_rows = df.shape[0]\n",
    "print('Total of data rows: {}'.format(total_rows))"
   ]
  },
  {
   "cell_type": "markdown",
   "id": "b9efa7c4",
   "metadata": {},
   "source": [
    "# Top 10 country with most SKUs orders"
   ]
  },
  {
   "cell_type": "code",
   "execution_count": 6,
   "id": "383ebb53",
   "metadata": {
    "scrolled": false
   },
   "outputs": [
    {
     "data": {
      "image/png": "[encoded data removed]",
      "text/plain": [
       "<Figure size 864x432 with 1 Axes>"
      ]
     },
     "metadata": {
      "needs_background": "light"
     },
     "output_type": "display_data"
    }
   ],
   "source": [
    "#Plotting the graph of top 10 country with most skus orders\n",
    "\n",
    "#Top country count\n",
    "top_country_count = df['Country'].value_counts().nlargest(10)\n",
    "\n",
    "fig, ax = plt.subplots(figsize=(12,6))\n",
    "\n",
    "ax.bar(top_country_count.index, top_country_count.values, color=colors)\n",
    "\n",
    "ax.set_ylabel('Countries', fontsize = 12)\n",
    "ax.set_xlabel('Counts', fontsize = 12)\n",
    "ax.set_title('Top 10 countries counts', fontsize = 12)\n",
    "plt.show()\n",
    "\n",
    "# Save plot\n",
    "filename = 'graph_1' + \".png\"\n",
    "path_plot = filename\n",
    "fig.savefig(path_plot, dpi=fig.dpi)"
   ]
  },
  {
   "cell_type": "markdown",
   "id": "5f681f2a",
   "metadata": {},
   "source": [
    "# Top 10 country with the largest pack prices"
   ]
  },
  {
   "cell_type": "code",
   "execution_count": 7,
   "id": "708ab96b",
   "metadata": {
    "scrolled": false
   },
   "outputs": [
    {
     "data": {
      "image/png": "[encoded data removed]",
      "text/plain": [
       "<Figure size 864x432 with 1 Axes>"
      ]
     },
     "metadata": {
      "needs_background": "light"
     },
     "output_type": "display_data"
    }
   ],
   "source": [
    "#Plotting the graph of top 10 country with the largest pack prices\n",
    "\n",
    "#Top country pack price\n",
    "top_country_pack_price = df.groupby(['Country'])['Pack Price'].sum().nlargest(10)\n",
    "\n",
    "fig, ax = plt.subplots(figsize=(12,6))\n",
    "\n",
    "ax.bar(top_country_pack_price.index, top_country_pack_price.values, color=colors)\n",
    "\n",
    "ax.set_ylabel('Countries', fontsize = 12)\n",
    "ax.set_xlabel('Pack Price', fontsize = 12)\n",
    "ax.set_title('Top 10 countries pack price', fontsize = 12)\n",
    "plt.show()\n",
    "\n",
    "# Save plot\n",
    "filename = 'graph_2' + \".png\"\n",
    "path_plot = filename\n",
    "fig.savefig(path_plot, dpi=fig.dpi)"
   ]
  },
  {
   "cell_type": "markdown",
   "id": "f80f3e35",
   "metadata": {},
   "source": [
    "# Pie chart of shipment mode percentage"
   ]
  },
  {
   "cell_type": "code",
   "execution_count": 8,
   "id": "f6812c9a",
   "metadata": {
    "scrolled": false
   },
   "outputs": [
    {
     "data": {
      "image/png": "[encoded data removed]",
      "text/plain": [
       "<Figure size 504x504 with 1 Axes>"
      ]
     },
     "metadata": {},
     "output_type": "display_data"
    }
   ],
   "source": [
    "#Shipment Mode Percentage\n",
    "shipping_mode = df[\"Shipment Mode\"].value_counts()\n",
    "labels = (np.array(shipping_mode.index))\n",
    "sizes = (np.array((shipping_mode / shipping_mode.sum())*100))\n",
    "\n",
    "fig, ax = plt.subplots(figsize=(7,7))\n",
    "ax.pie(sizes, labels=labels, autopct='%1.1f%%', textprops={'fontsize': 14})\n",
    "plt.legend()\n",
    "plt.show()\n",
    "\n",
    "# Save plot\n",
    "filename = 'graph_3' + \".png\"\n",
    "path_plot = filename\n",
    "fig.savefig(path_plot, dpi=fig.dpi)"
   ]
  },
  {
   "cell_type": "markdown",
   "id": "af26e729",
   "metadata": {},
   "source": [
    "# Report of the week plot"
   ]
  },
  {
   "cell_type": "code",
   "execution_count": 9,
   "id": "d57623c6",
   "metadata": {
    "scrolled": false
   },
   "outputs": [],
   "source": [
    "df_last_7_day = df.copy()\n",
    "\n",
    "df_last_7_day['Delivered to Client Date'] = pd.to_datetime(df_last_7_day['Delivered to Client Date'])\n",
    "df_last_7_day.sort_values(by='Delivered to Client Date', ascending=True, inplace=True)\n",
    "\n",
    "n = df_last_7_day.shape[0]-1\n",
    "\n",
    "last_day = str(df_last_7_day['Delivered to Client Date'][int(df_last_7_day.shape[0]-1)]) #This values most to be today() but..... this dataset is very old\n",
    "last_day = dt.datetime.strptime(str(last_day[0:10]), \"%Y-%m-%d\")\n",
    "\n",
    "x = 0\n",
    "for i in range(0,n):\n",
    "    date = str(df_last_7_day['Delivered to Client Date'][i])[0:10]\n",
    "    date = dt.datetime.strptime(date, \"%Y-%m-%d\")\n",
    "    if date > last_day - dt.timedelta(days=6):\n",
    "        x = x + 1\n",
    "        \n",
    "df_last_7_day = df_last_7_day.iloc[0:x,:]"
   ]
  },
  {
   "cell_type": "code",
   "execution_count": 10,
   "id": "8156f55d",
   "metadata": {
    "scrolled": false
   },
   "outputs": [
    {
     "data": {
      "image/png": "[encoded data removed]",
      "text/plain": [
       "<Figure size 864x432 with 1 Axes>"
      ]
     },
     "metadata": {
      "needs_background": "light"
     },
     "output_type": "display_data"
    }
   ],
   "source": [
    "df_last_top_products = df_last_7_day.groupby(['Sub Classification'])['Line Item Quantity'].sum()\n",
    "\n",
    "fig, ax = plt.subplots(figsize=(12,6))\n",
    "\n",
    "ax.bar(df_last_top_products.index, df_last_top_products.values, color=colors)\n",
    "\n",
    "ax.set_ylabel('Deliveries', fontsize = 12)\n",
    "ax.set_xlabel('Products classifications', fontsize = 12)\n",
    "ax.set_title('Top 5 products most delivered', fontsize = 12)\n",
    "plt.show()\n",
    "\n",
    "# Save plot\n",
    "filename = 'graph_4' + \".png\"\n",
    "path_plot = filename\n",
    "fig.savefig(path_plot, dpi=fig.dpi)"
   ]
  },
  {
   "cell_type": "code",
   "execution_count": 11,
   "id": "3a609b30",
   "metadata": {},
   "outputs": [],
   "source": [
    "df_last_7_day['Freight Cost (USD)'] = pd.to_numeric(df_last_7_day['Freight Cost (USD)'], errors='coerce')\n",
    "total_freight_cost = df_last_7_day['Freight Cost (USD)'].sum()"
   ]
  },
  {
   "cell_type": "code",
   "execution_count": 12,
   "id": "dda39fe4",
   "metadata": {},
   "outputs": [],
   "source": [
    "df_last_7_day['Weight (Kilograms)'] = pd.to_numeric(df_last_7_day['Weight (Kilograms)'], errors='coerce')\n",
    "total_weight_transported = df_last_7_day['Weight (Kilograms)'].sum()"
   ]
  },
  {
   "cell_type": "code",
   "execution_count": 13,
   "id": "5e435bf2",
   "metadata": {},
   "outputs": [],
   "source": [
    "df_last_7_day['Line Item Value'] = pd.to_numeric(df_last_7_day['Line Item Value'], errors='coerce')\n",
    "total_revenue = df_last_7_day['Line Item Value'].sum()"
   ]
  },
  {
   "cell_type": "markdown",
   "id": "82896fac",
   "metadata": {},
   "source": [
    "# Creating the introdution slide!"
   ]
  },
  {
   "cell_type": "code",
   "execution_count": 14,
   "id": "ac1677da",
   "metadata": {},
   "outputs": [],
   "source": [
    "# Create the presentation object\n",
    "prs = Presentation()\n",
    "\n",
    "# Layout Choice for the introduction slide\n",
    "image_slide_layout = prs.slide_layouts[5]\n",
    "page = 1\n",
    "\n",
    "'''Slide Introduction'''\n",
    "# Create the slide\n",
    "title_slide_layout = prs.slide_layouts[0]\n",
    "slide = prs.slides.add_slide(title_slide_layout)\n",
    "title = slide.shapes.title\n",
    "subtitle = slide.placeholders[1]\n",
    "background = slide.background\n",
    "fill = background.fill\n",
    "fill.solid()\n",
    "fill.fore_color.rgb = RGBColor(0, 32, 96)\n",
    "\n",
    "# Add Title\n",
    "title.text = \"Supply Chain Fast Reports\"\n",
    "title.text_frame.paragraphs[0].font.color.rgb = RGBColor(255, 255, 255)\n",
    "\n",
    "# Add Subtitle\n",
    "subtitle.text = 'Dataset: SCM Shipment Historic'\n",
    "subtitle.text_frame.paragraphs[0].font.color.rgb = RGBColor(255, 255, 255)"
   ]
  },
  {
   "cell_type": "markdown",
   "id": "37f9ea2b",
   "metadata": {},
   "source": [
    "# First overall analysis slide!"
   ]
  },
  {
   "cell_type": "code",
   "execution_count": 15,
   "id": "3afbe2d9",
   "metadata": {},
   "outputs": [],
   "source": [
    "'''Analysis Slide'''\n",
    "# Create a slide\n",
    "slide = prs.slides.add_slide(image_slide_layout)\n",
    "shapes = slide.shapes\n",
    "\n",
    "# Create Title\n",
    "title_shape = shapes.title\n",
    "title_shape.text = 'SCM Shipment Overall Analysis'\n",
    "\n",
    "# Add Image\n",
    "left = Inches(0.75)\n",
    "top = Inches(1.25)\n",
    "pic = slide.shapes.add_picture('graph_1.png', left, top, height=Inches(4.5))\n",
    "\n",
    "# Build the Text Box\n",
    "left = Inches(0.75)\n",
    "top = Inches(1.5) + Inches(4)\n",
    "width = Inches(9)\n",
    "height = Inches(2)\n",
    "txBox = slide.shapes.add_textbox(left, top, width, height)\n",
    "tf = txBox.text_frame\n",
    "    \n",
    "# Title\n",
    "p = tf.add_paragraph()\n",
    "p.text = 'Exploratory Analysis'\n",
    "p.font.size = Pt(18)\n",
    "    \n",
    "# First bullet point\n",
    "p = tf.add_paragraph()\n",
    "p.text = '• Country with most SKUs requests:{} ({})'.format(str(top_country_count.index[0]),str(top_country_count.values[0]))\n",
    "p.level = 1\n",
    "    \n",
    "# Second bullet point\n",
    "p = tf.add_paragraph()\n",
    "p.text = '• Country with largest revenue with pack delivery: {} (${})'.format(str(top_country_pack_price.index[0]),str(top_country_pack_price.values[0]))\n",
    "p.level = 1\n",
    "\n",
    "# Add page\n",
    "page += 1"
   ]
  },
  {
   "cell_type": "markdown",
   "id": "fdbb3fc8",
   "metadata": {},
   "source": [
    "# Second overall analysis slide!"
   ]
  },
  {
   "cell_type": "code",
   "execution_count": 16,
   "id": "a2de36ed",
   "metadata": {},
   "outputs": [],
   "source": [
    "'''Analysis Slide'''\n",
    "# Create a slide\n",
    "slide = prs.slides.add_slide(image_slide_layout)\n",
    "shapes = slide.shapes\n",
    "\n",
    "# Create Title\n",
    "title_shape = shapes.title\n",
    "title_shape.text = 'SCM Shipment Most Used Type'\n",
    "\n",
    "# Add Image\n",
    "left = Inches(1.5)\n",
    "top = Inches(1.0)\n",
    "pic = slide.shapes.add_picture('graph_3.png', left, top, height=Inches(5.5))\n",
    "\n",
    "# Build the Text Box\n",
    "left = Inches(0.75)\n",
    "top = Inches(1.5) + Inches(4)\n",
    "width = Inches(9)\n",
    "height = Inches(2)\n",
    "txBox = slide.shapes.add_textbox(left, top, width, height)\n",
    "tf = txBox.text_frame\n",
    "    \n",
    "# Title\n",
    "p = tf.add_paragraph()\n",
    "p.text = 'Shipment type analysis'\n",
    "p.font.size = Pt(18)\n",
    "    \n",
    "# First bullet point\n",
    "p = tf.add_paragraph()\n",
    "p.text = '• Most used transportation type: {}'.format(shipping_mode.index[0])\n",
    "p.level = 1\n",
    "\n",
    "p = tf.add_paragraph()\n",
    "p.text = '• Shipment types: {}'.format(list(shipping_mode.index))\n",
    "p.level = 1\n",
    "\n",
    "p = tf.add_paragraph()\n",
    "p.text = '• Pack price of the top 1 country: ${}'.format(top_country_pack_price[0])\n",
    "p.level = 1\n",
    "\n",
    "# Add page\n",
    "page += 1"
   ]
  },
  {
   "cell_type": "markdown",
   "id": "af81fec0",
   "metadata": {},
   "source": [
    "# Report of the week"
   ]
  },
  {
   "cell_type": "code",
   "execution_count": 17,
   "id": "7e1706cf",
   "metadata": {},
   "outputs": [],
   "source": [
    "'''Analysis Slide'''\n",
    "# Create a slide\n",
    "slide = prs.slides.add_slide(image_slide_layout)\n",
    "shapes = slide.shapes\n",
    "\n",
    "# Create Title\n",
    "title_shape = shapes.title\n",
    "title_shape.text = 'Fast Report'\n",
    "\n",
    "# Title\n",
    "p = tf.add_paragraph()\n",
    "p.text = 'Most Delivered Products in the Week'\n",
    "p.font.size = Pt(18)\n",
    "\n",
    "# Add Image\n",
    "left = Inches(0.5)\n",
    "top = Inches(1.4)\n",
    "pic = slide.shapes.add_picture('graph_4.png', left, top, height=Inches(4.5))\n",
    "\n",
    "# Build the Text Box\n",
    "left = Inches(0.75)\n",
    "top = Inches(1.5) + Inches(4)\n",
    "width = Inches(9)\n",
    "height = Inches(2)\n",
    "txBox = slide.shapes.add_textbox(left, top, width, height)\n",
    "tf = txBox.text_frame\n",
    "    \n",
    "# Title\n",
    "p = tf.add_paragraph()\n",
    "p.text = 'Week Report:'\n",
    "p.font.size = Pt(18)\n",
    "    \n",
    "# First bullet point\n",
    "p = tf.add_paragraph()\n",
    "p.text = '• Total freight cost: ${}'.format(round(total_freight_cost,2))\n",
    "p.level = 1\n",
    "\n",
    "p = tf.add_paragraph()\n",
    "p.text = '• Total weight transported: {}Kg'.format(round(total_weight_transported,2))\n",
    "p.level = 1\n",
    "\n",
    "p = tf.add_paragraph()\n",
    "p.text = '• Total revenue in the week: ${}'.format(round(total_revenue,2))\n",
    "p.level = 1"
   ]
  },
  {
   "cell_type": "markdown",
   "id": "5f716a74",
   "metadata": {},
   "source": [
    "# Saving the file in .pptx!"
   ]
  },
  {
   "cell_type": "code",
   "execution_count": 18,
   "id": "f7ff1a82",
   "metadata": {},
   "outputs": [],
   "source": [
    "# Save\n",
    "prs.save('SCM Shipment Report.pptx')"
   ]
  }
 ],
 "metadata": {
  "kernelspec": {
   "display_name": "Python 3 (ipykernel)",
   "language": "python",
   "name": "python3"
  },
  "language_info": {
   "codemirror_mode": {
    "name": "ipython",
    "version": 3
   },
   "file_extension": ".py",
   "mimetype": "text/x-python",
   "name": "python",
   "nbconvert_exporter": "python",
   "pygments_lexer": "ipython3",
   "version": "3.9.12"
  }
 },
 "nbformat": 4,
 "nbformat_minor": 5
}
